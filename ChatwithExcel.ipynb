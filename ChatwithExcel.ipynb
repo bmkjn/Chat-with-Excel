{
  "cells": [
    {
      "cell_type": "code",
      "execution_count": null,
      "metadata": {
        "id": "ckFueFPZLm1e",
        "outputId": "cab5c78a-384a-4397-c8f7-c011bd4ba26a"
      },
      "outputs": [
        {
          "name": "stderr",
          "output_type": "stream",
          "text": [
            "c:\\Users\\Yesh\\Desktop\\Internship brand intelle\\LLM\\.venv\\Lib\\site-packages\\tqdm\\auto.py:21: TqdmWarning: IProgress not found. Please update jupyter and ipywidgets. See https://ipywidgets.readthedocs.io/en/stable/user_install.html\n",
            "  from .autonotebook import tqdm as notebook_tqdm\n"
          ]
        }
      ],
      "source": [
        "import os\n",
        "from dotenv import load_dotenv\n",
        "import pandas as pd\n",
        "\n",
        "from langchain_google_genai import GoogleGenerativeAI\n",
        "from pandasai import Agent, SmartDatalake\n",
        "from pandasai.connectors import PandasConnector\n",
        "import pandasai as pai"
      ]
    },
    {
      "cell_type": "code",
      "execution_count": null,
      "metadata": {
        "id": "QhPRgDQHLm1g"
      },
      "outputs": [],
      "source": [
        "load_dotenv()\n",
        "os.environ[\"GOOGLE_API_KEY\"] = os.getenv(\"GOOGLE_API_KEY\")\n",
        "os.environ[\"OPENAI_API_KEY\"] = os.getenv(\"GOOGLE_API_KEY\")\n",
        "os.environ[\"LANGCHAIN_TRACING_V2\"] = \"true\"\n",
        "os.environ[\"LANGCHAIN_API_KEY\"] = os.getenv(\"LANGCHAIN_API_KEY\")\n",
        "os.environ[\"PANDASAI_API_KEY\"] = os.getenv(\"PANDASAI_API_KEY\")"
      ]
    },
    {
      "cell_type": "code",
      "execution_count": null,
      "metadata": {
        "id": "9HtYlDliLm1g",
        "outputId": "01926511-f0e5-4b07-a720-760dc3037f46"
      },
      "outputs": [
        {
          "data": {
            "text/plain": [
              "'I am Gemini, a multimodal AI language model developed by Google. I am designed to understand and generate human language, answer questions, and provide information on a wide range of topics.\\n\\nHere are some of the things I can do:\\n\\n* **Answer questions:** I can answer questions on a wide range of topics, including science, history, current events, and more.\\n* **Generate text:** I can generate text in a variety of styles, including creative writing, essays, and code.\\n* **Translate languages:** I can translate text between over 100 languages.\\n* **Summarize text:** I can summarize long pieces of text into shorter, more concise summaries.\\n* **Chat:** I can engage in casual conversation and answer questions in a conversational manner.\\n\\nI am still under development, but I am learning new things every day. I am excited to see how I can continue to help people in the future.'"
            ]
          },
          "execution_count": 42,
          "metadata": {},
          "output_type": "execute_result"
        }
      ],
      "source": [
        "llm = GoogleGenerativeAI(model=\"gemini-pro\",temperature=0.1)\n",
        "llm.invoke(\"Who are you? and what can you do?\")"
      ]
    },
    {
      "cell_type": "code",
      "execution_count": null,
      "metadata": {
        "id": "G07qh6nnLm1h"
      },
      "outputs": [],
      "source": [
        "description = \"You are a data analysis agent specializing in helping non-technical users understand and interpret data accurately. Your main objective is to provide clear and concise answers to users' questions in the form of strings only, without generating any graphs or visual aids. The data you work with is organized into dataframes representing ad campaigns across various mediums—print, TV, radio, digital, and outdoor—each containing multiple relevant columns. These mediums are related to a user who has spent money on ad campaigns across different channels, with each medium including a column that indicates the amount or gross amount spent. If a user queries information without specifying a medium, you should use all the available data from each medium to provide a comprehensive response. Your role involves interpreting users' queries, which may include spelling or capitalization errors, and using the closest matching correct values from the relevant dataframe to ensure accurate analysis. If a channel or network is mentioned in the query, use the Parent_network or channel column for relevant information. Additionally, if a user mentions a city, state, or market, you should refer to the respective columns—city, state, or market. For questions about spends related to parent networks or channels, ensure that the response cannot be zero; there must be some spends, so further investigation may be necessary.\""
      ]
    },
    {
      "cell_type": "code",
      "execution_count": null,
      "metadata": {
        "id": "oVAcCVZKLm1h"
      },
      "outputs": [],
      "source": [
        "# Change as per your liking\n",
        "\n",
        "description_tv = \"You are a data analysis agent specializing in helping non-technical users understand and interpret data accurately. Your main objective is to provide clear and concise answers to users' questions, strictly in the form of strings, without generating any graphs or visual aids. The data you work with is organized into dataframes that represent ad campaigns across different mediums, including print, TV, radio, digital, and outdoor. This particular dataframe focuses on TV ad campaigns and contains multiple columns of relevant data. Your role involves comprehending users' queries, which may sometimes include spelling errors and capitalization errors, and using your expertise to interpret these queries correctly. When faced with misspellings or unclear terms, you are expected to identify and use the closest matching correct values from one of the columns to ensure accurate analysis and responses. If a channel is mentioned in the query, use the channel column, if network is mentioned use the Parent_Network column for relevant information. Your goal is to make data analysis accessible and straightforward for users, guiding them through the insights derived from the TV ad campaign data. For questions about grossamount ensure that the response cannot be zero; there must be some spends, so you have to keep looking.The sate and city columns are null for tv medium.If the market value is coming out nan , you should say the market isnt mentioned\""
      ]
    },
    {
      "cell_type": "code",
      "execution_count": null,
      "metadata": {
        "id": "uBoS4EMQLm1h"
      },
      "outputs": [],
      "source": [
        "description_radio = \"You are a data analysis agent specializing in helping non-technical users understand and interpret data accurately. Your main objective is to provide clear and concise answers to users' questions, strictly in the form of strings, without generating any graphs or visual aids. The data you work with is organized into dataframes that represent ad campaigns across different mediums, including print, TV, radio, digital, and outdoor. This particular dataframe focuses on radio ad campaigns and contains multiple columns of relevant data. Your role involves comprehending users' queries, which may sometimes include spelling errors, and using your expertise to interpret these queries correctly. When faced with misspellings or unclear terms, you are expected to identify and use the closest matching correct values to ensure accurate analysis and responses. Your goal is to make data analysis accessible and straightforward for users, guiding them through the insights derived from the radio ad campaign data.\""
      ]
    },
    {
      "cell_type": "code",
      "execution_count": null,
      "metadata": {
        "id": "sS6f5RrLLm1i"
      },
      "outputs": [],
      "source": [
        "description_print = \"You are a data analysis agent specializing in helping non-technical users understand and interpret data accurately. Your main objective is to provide clear and concise answers to users' questions, strictly in the form of strings, without generating any graphs or visual aids. The data you work with is organized into dataframes that represent ad campaigns across different mediums, including print, TV, radio, digital, and outdoor. This particular dataframe focuses on print ad campaigns and contains multiple columns of relevant data. Your role involves comprehending users' queries, which may sometimes include spelling errors, and using your expertise to interpret these queries correctly. When faced with misspellings or unclear terms, you are expected to identify and use the closest matching correct values to ensure accurate analysis and responses. Your goal is to make data analysis accessible and straightforward for users, guiding them through the insights derived from the print ad campaign data\""
      ]
    },
    {
      "cell_type": "code",
      "execution_count": null,
      "metadata": {
        "id": "Lc52tjF8Lm1i"
      },
      "outputs": [],
      "source": [
        "description_digital = \"You are a data analysis agent specializing in helping non-technical users understand and interpret data accurately. Your main objective is to provide clear and concise answers to users' questions, strictly in the form of strings, without generating any graphs or visual aids. The data you work with is organized into dataframes that represent ad campaigns across different mediums, including print, TV, radio, digital, and outdoor. This particular dataframe focuses on digital ad campaigns and contains multiple columns of relevant data. Your role involves comprehending users' queries, which may sometimes include spelling errors, and using your expertise to interpret these queries correctly. When faced with misspellings or unclear terms, you are expected to identify and use the closest matching correct values to ensure accurate analysis and responses. Your goal is to make data analysis accessible and straightforward for users, guiding them through the insights derived from the digital ad campaign data.\""
      ]
    },
    {
      "cell_type": "code",
      "execution_count": null,
      "metadata": {
        "id": "ghhG__CJLm1i"
      },
      "outputs": [],
      "source": [
        "description_outdoor = \"You are a data analysis agent specializing in helping non-technical users understand and interpret data accurately. Your main objective is to provide clear and concise answers to users' questions, strictly in the form of strings, without generating any graphs or visual aids. The data you work with is organized into dataframes that represent ad campaigns across different mediums, including print, TV, radio, digital, and outdoor. This particular dataframe focuses on outdoor ad campaigns and contains multiple columns of relevant data. Your role involves comprehending users' queries, which may sometimes include spelling errors, and using your expertise to interpret these queries correctly. When faced with misspellings or unclear terms, you are expected to identify and use the closest matching correct values to ensure accurate analysis and responses. Your goal is to make data analysis accessible and straightforward for users, guiding them through the insights derived from the outdoor ad campaign data.\""
      ]
    },
    {
      "cell_type": "code",
      "execution_count": null,
      "metadata": {
        "id": "ZmQjdIIPLm1i"
      },
      "outputs": [],
      "source": [
        "df_tv = pd.read_excel(r\"Data\\TV.xlsx\")\n",
        "df_radio = pd.read_excel(r\"Data\\Radio.xlsx\")\n",
        "df_print = pd.read_excel(r\"Data\\Print Final.xlsx\")\n",
        "df_digital = pd.read_excel(r\"Data\\Digital.xlsx\")\n",
        "df_outdoor = pd.read_excel(r\"Data\\OOH.xlsx\")"
      ]
    },
    {
      "cell_type": "code",
      "execution_count": null,
      "metadata": {
        "id": "P0ke3REGLm1j",
        "outputId": "6bca0c40-14db-4f21-8899-430251449bba"
      },
      "outputs": [
        {
          "name": "stdout",
          "output_type": "stream",
          "text": [
            "TV:  Index(['DocNo', 'Client', 'Brand', 'Agency', 'CreatedBy', 'PONo', 'PODate',\n",
            "       'Market', 'Channel', 'Parent_Network', 'Caption', 'Ad_Lang',\n",
            "       'ScheduledDate', 'GrossAmount', 'DocStage', 'ApprovedBy', 'Spot_Type',\n",
            "       'Medium', 'State', 'City'],\n",
            "      dtype='object')\n",
            "Radio:  Index(['Brand', 'Agency', 'CreatedBy', 'PODate', 'Market', 'Channel',\n",
            "       'Parent Network', 'State', 'City', 'Caption', 'Ad_Lang',\n",
            "       'ScheduledDate', 'GrossAmount', 'DocStage', 'ApprovedBy', 'Spot_Type',\n",
            "       'Medium'],\n",
            "      dtype='object')\n",
            "Print:  Index(['Scheduled_Date', 'PO_Date', 'Brand', 'Agency', 'CreatedBy', 'Market',\n",
            "       'City', 'Channel', 'Ad_Lang', 'Amount', 'ApprovedBy', 'Spot_Type',\n",
            "       'Caption', 'ActivityName', 'Medium', 'Parent Network', 'State'],\n",
            "      dtype='object')\n",
            "Digital:  Index(['Unnamed: 0', 'PO_Date', 'Scheduled_Date', 'Brand', 'Agency',\n",
            "       'CreatedBy', 'Market', 'Parent Network', 'Channel', 'Amount',\n",
            "       'Approved_By', 'State', 'City', 'Ad_Lang', 'Spot_Type', 'Caption',\n",
            "       'ActivityName', 'Medium'],\n",
            "      dtype='object')\n",
            "Outdoor:  Index(['Unnamed: 0.1', 'Unnamed: 0', 'Scheduled_Date', 'PO_Date', 'Brand',\n",
            "       'Agency', 'CreatedBy', 'Market', 'State', 'City', 'Ad_Lang', 'Amount',\n",
            "       'Approved_By', 'Spot_Type', 'Caption', 'Parent Network', 'Channel',\n",
            "       'ActivityName'],\n",
            "      dtype='object')\n"
          ]
        }
      ],
      "source": [
        "print(\"TV: \", df_tv.columns)\n",
        "print(\"Radio: \", df_radio.columns)\n",
        "print(\"Print: \", df_print.columns)\n",
        "print(\"Digital: \", df_digital.columns)\n",
        "print(\"Outdoor: \", df_outdoor.columns)"
      ]
    },
    {
      "cell_type": "code",
      "execution_count": null,
      "metadata": {
        "id": "51qR86WfLm1j"
      },
      "outputs": [],
      "source": [
        "field_descriptions_tv = {\n",
        " \t'Brand': 'The different brands under the client. Contains scooter and bike names.',\n",
        "\t'Agency': 'The agency name via which the ad campaign is taken place.',\n",
        "\t'Create_Date': 'Date of creation of the ad campaign.',\n",
        "\t'Schedule_Date': 'Date when the ad campaign is scheduled to be displayed.',\n",
        "\t'Created_By': 'Name of the person who created the ad campaign.',\n",
        " \t'Approved_by': 'Name of the person who approved the ad campaign.',\n",
        "\t'Spot_type': 'Type of ad campaign. Consists of two values: BASE and IMPACT.',\n",
        "\t'Parent_Network': 'The parent network of the TV Channel in which the ad is displayed.It contains the parent networks of the Channel columns.',\n",
        "\t'TV_Channel': 'The name of the TV Channel in which the ad is displayed.These are the sub channels of which come under a particular Parent network',\n",
        " \t'Market': 'The region in which the ad campaign took place.',\n",
        "\t'Ad_Language': 'Language of the ad campaign.',\n",
        "\t'Caption': 'The caption of the ad campaign.',\n",
        "\t'Amount': 'Amount spend on that ad campaign.',\n",
        "}"
      ]
    },
    {
      "cell_type": "code",
      "execution_count": null,
      "metadata": {
        "id": "TP7h0UNZLm1j"
      },
      "outputs": [],
      "source": [
        "field_descriptions_radio = {\n",
        " \t'Brand': 'The different brands under the client. Contains scooter and bike names.',\n",
        "\t'Agency': 'The agency name via which the ad campaign is taken place.',\n",
        "\t'Create_Date': 'Date of creation of the ad campaign.',\n",
        "\t'Schedule_Date': 'Date when the ad campaign is scheduled to be aired.',\n",
        "\t'Created_By': 'Name of the person who created the ad campaign.',\n",
        " \t'Approved_by': 'Name of the person who approved the ad campaign.',\n",
        "\t'Spot_type': 'Type of ad campaign. Consists of two values: BASE and IMPACT.',\n",
        "\t'Parent Network': 'The parent network of the Radio Channel in which the ad is aired.',\n",
        "\t'Radio_Channel': 'The name of the Radio Channel in which the ad is aired.',\n",
        "\t'City': 'The city name.',\n",
        "\t'State': 'State name.',\n",
        " \t'Market': 'The region in which the ad campaign took place.',\n",
        "\t'Ad_Language': 'Language of the ad campaign.',\n",
        "\t'Caption': 'The caption of the ad campaign.',\n",
        "\t'Amount': 'Amount spend on that ad campaign.',\n",
        "}"
      ]
    },
    {
      "cell_type": "code",
      "execution_count": null,
      "metadata": {
        "id": "UUGRMlm1Lm1j"
      },
      "outputs": [],
      "source": [
        "field_descriptions_print = {\n",
        " \t'Brand': 'The different brands under the client. Contains scooter and bike names.',\n",
        "\t'Agency': 'The agency name via which the ad campaign is taken place.',\n",
        "\t'Create_Date': 'Date of creation of the ad campaign.',\n",
        "\t'Schedule_Date': 'Date when the ad campaign is scheduled to be printed.',\n",
        "\t'Created_By': 'Name of the person who created the ad campaign.',\n",
        " \t'Approved_by': 'Name of the person who approved the ad campaign.',\n",
        "\t'Spot_type': 'Type of ad campaign. Consists of two values: BASE and IMPACT.',\n",
        "\t'Parent_Publication': 'The parent company of the newspaper in which the ad is printed.',\n",
        "\t'Newspaper': 'The name of the newspaper in which the ad is printed.',\n",
        "\t'City': 'The city name.',\n",
        "\t'State': 'State name.',\n",
        " \t'Market': 'The region in which the ad campaign took place.',\n",
        "\t'Ad_Language': 'Language of the ad campaign.',\n",
        "\t'Caption': 'The caption of the ad campaign.',\n",
        "\t'Amount': 'Amount spend on that ad campaign.',\n",
        "}"
      ]
    },
    {
      "cell_type": "code",
      "execution_count": null,
      "metadata": {
        "id": "6G5HVuoQLm1j",
        "outputId": "a1c59d0f-0a32-41da-aef2-b07b5a4e620c"
      },
      "outputs": [
        {
          "data": {
            "text/plain": [
              "\" \\nDigital:  Index(['Brand', 'Agency', 'Create_Date', 'Schedule_Date', 'CreatedBy',\\n       'Approved_By', 'Market', 'Parent Network', 'Channel', 'Amount'],\\n      dtype='object')\\nOutdoor:  Index(['Brand', 'Agency', 'Create_Date', 'CreatedBy', 'Approved_By', 'City',\\n       'State', 'Market', 'Ad_Lang', 'Caption', 'Amount'],\\n      dtype='object')\\n\""
            ]
          },
          "execution_count": 16,
          "metadata": {},
          "output_type": "execute_result"
        }
      ],
      "source": [
        "'''\n",
        "Digital:  Index(['Brand', 'Agency', 'Create_Date', 'Schedule_Date', 'CreatedBy',\n",
        "       'Approved_By', 'Market', 'Parent Network', 'Channel', 'Amount'],\n",
        "      dtype='object')\n",
        "Outdoor:  Index(['Brand', 'Agency', 'Create_Date', 'CreatedBy', 'Approved_By', 'City',\n",
        "       'State', 'Market', 'Ad_Lang', 'Caption', 'Amount'],\n",
        "      dtype='object')\n",
        "'''"
      ]
    },
    {
      "cell_type": "code",
      "execution_count": null,
      "metadata": {
        "id": "ud-gjPB7Lm1j"
      },
      "outputs": [],
      "source": [
        "field_descriptions_digital = {\n",
        " \t'Brand': 'The different brands under the client. Contains scooter and bike names.',\n",
        "\t'Agency': 'The agency name via which the ad campaign is taken place.',\n",
        "\t'Create_Date': 'Date of creation of the ad campaign.',\n",
        "\t'Schedule_Date': 'Date when the ad campaign is scheduled to be printed.',\n",
        "\t'Created_By': 'Name of the person who created the ad campaign.',\n",
        " \t'Approved_by': 'Name of the person who approved the ad campaign.',\n",
        " \t'Market': 'The region in which the ad campaign took place.',\n",
        "\t'Parent Network': 'The parent network via which the ad is being displayed online.',\n",
        "\t'Channel': 'The online channel/sites where the ad is being displayed.',\n",
        "\t'Amount': 'Amount spend on that ad campaign.',\n",
        "}"
      ]
    },
    {
      "cell_type": "code",
      "execution_count": null,
      "metadata": {
        "id": "TumF4CNjLm1k"
      },
      "outputs": [],
      "source": [
        "field_descriptions_outdoor = {\n",
        " \t'Brand': 'The different brands under the client. Contains scooter and bike names.',\n",
        "\t'Agency': 'The agency name via which the ad campaign is taken place.',\n",
        "\t'Create_Date': 'Date of creation of the ad campaign.',\n",
        "\t'CreatedBy': 'Name of the person who created the ad campaign.',\n",
        " \t'Approved_by': 'Name of the person who approved the ad campaign.',\n",
        "\t'City': 'The city name.',\n",
        "\t'State': 'State name.',\n",
        " \t'Market': 'The region in which the ad campaign took place.',\n",
        "\t'Ad_Language': 'Language of the ad campaign.',\n",
        "\t'Caption': 'The caption of the ad campaign.',\n",
        "\t'Amount': 'Amount spend on that ad campaign.',\n",
        "}"
      ]
    },
    {
      "cell_type": "code",
      "execution_count": null,
      "metadata": {
        "id": "ja9bURZXLm1k"
      },
      "outputs": [],
      "source": [
        "connecter_print = PandasConnector(\n",
        "    {\"original_df\": df_print},\n",
        "    field_descriptions = field_descriptions_print,\n",
        "    description = description_print\n",
        ")\n",
        "\n",
        "connecter_radio = PandasConnector(\n",
        "    {\"original_df\": df_radio},\n",
        "    field_descriptions = field_descriptions_radio,\n",
        "    description = description_radio\n",
        ")\n",
        "\n",
        "connecter_tv = PandasConnector(\n",
        "    {\"original_df\": df_tv},\n",
        "    field_descriptions = field_descriptions_tv,\n",
        "    description = description_tv\n",
        ")\n",
        "\n",
        "connecter_digital = PandasConnector(\n",
        "    {\"original_df\": df_digital},\n",
        "    field_descriptions = field_descriptions_digital,\n",
        "    description = description_digital\n",
        ")\n",
        "\n",
        "connecter_outdoor = PandasConnector(\n",
        "    {\"original_df\": df_outdoor},\n",
        "    field_descriptions = field_descriptions_outdoor,\n",
        "    description = description_outdoor\n",
        ")"
      ]
    },
    {
      "cell_type": "code",
      "execution_count": null,
      "metadata": {
        "id": "ZuwpOdYWLm1k"
      },
      "outputs": [],
      "source": [
        "# df = pd.read_excel(\"Your excel sheet\")\n",
        "\n",
        "agent = Agent(\n",
        "\t[connecter_tv, connecter_radio, connecter_print, connecter_outdoor, connecter_digital],\n",
        "    config = {\"llm\": llm},\n",
        "\tdescription = description\n",
        ")"
      ]
    },
    {
      "cell_type": "code",
      "execution_count": null,
      "metadata": {
        "id": "sxoriO7KLm1k"
      },
      "outputs": [],
      "source": [
        "pai.clear_cache()"
      ]
    },
    {
      "cell_type": "code",
      "execution_count": null,
      "metadata": {
        "id": "xUQiyWiPLm1k"
      },
      "outputs": [],
      "source": [
        "# Train the model - incorrect names\n",
        "query = \"What is the GrossAmount of jalsa movies for tv medium?\"\n",
        "response = \"\"\"\n",
        "\n",
        "import pandas as pd\n",
        "\n",
        "# Get the TV dataframe\n",
        "tv_df = dfs[0]\n",
        "\n",
        "# Assuming df is your dataframe\n",
        "\n",
        "parent_network_list = tv_df['Parent_Network'].dropna().tolist()\n",
        "lowercase_list = [value.lower() for value in parent_network_list]\n",
        "target_value = 'jalsa_movies'.lower()\n",
        "\n",
        "def count_matching_characters(s1, s2):\n",
        "    # Count common characters in sequence\n",
        "    matches = 0\n",
        "    min_len = min(len(s1), len(s2))\n",
        "    for i in range(min_len):\n",
        "        if s1[i] == s2[i]:\n",
        "            matches += 1\n",
        "    return matches\n",
        "\n",
        "# Initialize variables to keep track of the best match\n",
        "best_match = None\n",
        "max_common_chars = 0\n",
        "\n",
        "for original_value, lowercase_value in zip(parent_network_list, lowercase_list):\n",
        "    common_chars = count_matching_characters(lowercase_value, target_value)\n",
        "    if common_chars > max_common_chars:\n",
        "        max_common_chars = common_chars\n",
        "        best_match = original_value\n",
        "\n",
        "jalsa_movies_df = tv_df[tv_df['Parent_Network'].str.contains(best_match)]\n",
        "\n",
        "# Get the GrossAmount for Jalsa Movies\n",
        "gross_amount = jalsa_movies_df['GrossAmount'].sum()\n",
        "\n",
        "# Declare result var\n",
        "result = { \"type\": \"string\", \"value\": f\"The GrossAmount for Jalsa Movies is {gross_amount}.\" }\n",
        "\n",
        "\"\"\"\n",
        "\n",
        "agent.train(queries=[query], codes=[response])\n",
        "agent.chat('What is the GrossAmount of jalsa movies for tv medium?')"
      ]
    },
    {
      "cell_type": "code",
      "execution_count": null,
      "metadata": {
        "id": "CRUv7VtQLm1k",
        "outputId": "6d12564a-b6d5-49ed-d477-44f9a4e04202"
      },
      "outputs": [
        {
          "name": "stdout",
          "output_type": "stream",
          "text": [
            "The market for the top spent channel (STAR SPORTS 1) is not mentioned.\n"
          ]
        }
      ],
      "source": [
        "# Train the model - if the market is not mentioned\n",
        "query = \"What is the Market for top spent Channel for Tv medium?\"\n",
        "response = \"\"\"\n",
        "import pandas as pd\n",
        "\n",
        "tv_df = dfs[0]\n",
        "\n",
        "# Get the top spent channel\n",
        "top_channel = tv_df.groupby('Channel')['GrossAmount'].sum().idxmax()\n",
        "\n",
        "# Get the market for the top spent channel\n",
        "market = tv_df[tv_df['Channel'] == top_channel]['Market'].iloc[0]\n",
        "# Check if the market is NaN and provide appropriate response\n",
        "if pd.isna(market):\n",
        "    result = { \"type\": \"string\", \"value\": f\"The market for the top spent channel ({top_channel}) is not mentioned.\" }\n",
        "else:\n",
        "    result = { \"type\": \"string\", \"value\": f\"The market for the top spent channel ({top_channel}) is {market}.\" }\n",
        "\n",
        "\"\"\"\n",
        "agent.train(queries=[query], codes=[response])\n",
        "\n",
        "response = agent.chat(\"What is the Market for top spent Channel for Tv medium?\")\n",
        "print(response)"
      ]
    },
    {
      "cell_type": "code",
      "execution_count": null,
      "metadata": {
        "id": "ZtjSJBuULm1k",
        "outputId": "e62e2a19-9068-43de-c126-7fe57fafea6f"
      },
      "outputs": [
        {
          "data": {
            "text/plain": [
              "'The data is about ad campaigns across various mediums, including print, TV, radio, digital, and outdoor.'"
            ]
          },
          "execution_count": 45,
          "metadata": {},
          "output_type": "execute_result"
        }
      ],
      "source": [
        "agent.chat('What is the data about?')"
      ]
    },
    {
      "cell_type": "code",
      "execution_count": null,
      "metadata": {
        "id": "27vhW9uNLm1l",
        "outputId": "a7bb1f46-4e14-4d89-8785-ded8883d5f42"
      },
      "outputs": [
        {
          "data": {
            "text/plain": [
              "'The campaign for Radio Mirchi Jaipur Channel was created by Hari Kumar.'"
            ]
          },
          "execution_count": 84,
          "metadata": {},
          "output_type": "execute_result"
        }
      ],
      "source": [
        "agent.chat('Who created the campaign for Radio Mirchi Jaipur Channel?')"
      ]
    },
    {
      "cell_type": "code",
      "execution_count": null,
      "metadata": {
        "id": "A3IIyBBNLm1l",
        "outputId": "a496a18d-f406-426c-bf29-d15241ca8e37"
      },
      "outputs": [
        {
          "data": {
            "text/plain": [
              "'The market for the top spent channel (STAR SPORTS 1) is not mentioned.'"
            ]
          },
          "execution_count": 85,
          "metadata": {},
          "output_type": "execute_result"
        }
      ],
      "source": [
        "agent.chat('What is the Market for top spent Channel for Tv medium?')"
      ]
    },
    {
      "cell_type": "code",
      "execution_count": null,
      "metadata": {
        "id": "Bnqgoqw7Lm1l",
        "outputId": "8daecb83-894a-4561-e546-723751fd4c58"
      },
      "outputs": [
        {
          "name": "stdout",
          "output_type": "stream",
          "text": [
            "Hindi, Local, Eng + Hin, English, Telugu\n",
            "The top 5 ad languages for TV are: Hindi, Local, Eng + Hin, English, Telugu\n"
          ]
        },
        {
          "name": "stderr",
          "output_type": "stream",
          "text": [
            "Traceback (most recent call last):\n",
            "  File \"c:\\Users\\Yesh\\Desktop\\Internship brand intelle\\LLM\\.venv\\Lib\\site-packages\\pandasai\\pipelines\\chat\\generate_chat_pipeline.py\", line 335, in run\n",
            "    ).run(input)\n",
            "      ^^^^^^^^^^\n",
            "  File \"c:\\Users\\Yesh\\Desktop\\Internship brand intelle\\LLM\\.venv\\Lib\\site-packages\\pandasai\\pipelines\\pipeline.py\", line 137, in run\n",
            "    raise e\n",
            "  File \"c:\\Users\\Yesh\\Desktop\\Internship brand intelle\\LLM\\.venv\\Lib\\site-packages\\pandasai\\pipelines\\pipeline.py\", line 101, in run\n",
            "    step_output = logic.execute(\n",
            "                  ^^^^^^^^^^^^^^\n",
            "  File \"c:\\Users\\Yesh\\Desktop\\Internship brand intelle\\LLM\\.venv\\Lib\\site-packages\\pandasai\\pipelines\\chat\\code_execution.py\", line 113, in execute\n",
            "    raise e\n",
            "  File \"c:\\Users\\Yesh\\Desktop\\Internship brand intelle\\LLM\\.venv\\Lib\\site-packages\\pandasai\\pipelines\\chat\\code_execution.py\", line 96, in execute\n",
            "    if not OutputValidator.validate_result(result):\n",
            "           ^^^^^^^^^^^^^^^^^^^^^^^^^^^^^^^^^^^^^^^\n",
            "  File \"c:\\Users\\Yesh\\Desktop\\Internship brand intelle\\LLM\\.venv\\Lib\\site-packages\\pandasai\\helpers\\output_validator.py\", line 73, in validate_result\n",
            "    raise InvalidOutputValueMismatch(\n",
            "pandasai.exceptions.InvalidOutputValueMismatch: Result must be in the format of dictionary of type and value\n"
          ]
        },
        {
          "data": {
            "text/plain": [
              "'Unfortunately, I was not able to answer your question, because of the following error:\\n\\nResult must be in the format of dictionary of type and value\\n'"
            ]
          },
          "execution_count": 86,
          "metadata": {},
          "output_type": "execute_result"
        },
        {
          "data": {
            "image/png": "[encoded data removed]",
            "text/plain": [
              "<Figure size 1000x500 with 1 Axes>"
            ]
          },
          "metadata": {},
          "output_type": "display_data"
        }
      ],
      "source": [
        "agent.chat('What are the top 5 ad language for tv?')"
      ]
    },
    {
      "cell_type": "code",
      "execution_count": null,
      "metadata": {
        "id": "uVT0AXrJLm1l",
        "outputId": "79fb0a74-6827-4062-de81-1e50c10e9517"
      },
      "outputs": [
        {
          "name": "stderr",
          "output_type": "stream",
          "text": [
            "Traceback (most recent call last):\n",
            "  File \"c:\\Users\\Yesh\\Desktop\\Internship brand intelle\\LLM\\.venv\\Lib\\site-packages\\pandasai\\pipelines\\chat\\generate_chat_pipeline.py\", line 335, in run\n",
            "    ).run(input)\n",
            "      ^^^^^^^^^^\n",
            "  File \"c:\\Users\\Yesh\\Desktop\\Internship brand intelle\\LLM\\.venv\\Lib\\site-packages\\pandasai\\pipelines\\pipeline.py\", line 137, in run\n",
            "    raise e\n",
            "  File \"c:\\Users\\Yesh\\Desktop\\Internship brand intelle\\LLM\\.venv\\Lib\\site-packages\\pandasai\\pipelines\\pipeline.py\", line 101, in run\n",
            "    step_output = logic.execute(\n",
            "                  ^^^^^^^^^^^^^^\n",
            "  File \"c:\\Users\\Yesh\\Desktop\\Internship brand intelle\\LLM\\.venv\\Lib\\site-packages\\pandasai\\pipelines\\chat\\code_generator.py\", line 33, in execute\n",
            "    code = pipeline_context.config.llm.generate_code(input, pipeline_context)\n",
            "           ^^^^^^^^^^^^^^^^^^^^^^^^^^^^^^^^^^^^^^^^^^^^^^^^^^^^^^^^^^^^^^^^^^\n",
            "  File \"c:\\Users\\Yesh\\Desktop\\Internship brand intelle\\LLM\\.venv\\Lib\\site-packages\\pandasai\\llm\\base.py\", line 202, in generate_code\n",
            "    return self._extract_code(response)\n",
            "           ^^^^^^^^^^^^^^^^^^^^^^^^^^^^\n",
            "  File \"c:\\Users\\Yesh\\Desktop\\Internship brand intelle\\LLM\\.venv\\Lib\\site-packages\\pandasai\\llm\\base.py\", line 127, in _extract_code\n",
            "    raise NoCodeFoundError(\"No code found in the response\")\n",
            "pandasai.exceptions.NoCodeFoundError: No code found in the response\n"
          ]
        },
        {
          "data": {
            "text/plain": [
              "'Unfortunately, I was not able to answer your question, because of the following error:\\n\\nNo code found in the response\\n'"
            ]
          },
          "execution_count": 88,
          "metadata": {},
          "output_type": "execute_result"
        }
      ],
      "source": [
        "agent.chat('Give me the names of all the news networks in the Tv medium?')"
      ]
    },
    {
      "cell_type": "code",
      "execution_count": null,
      "metadata": {
        "id": "mgHk7mR7Lm1l",
        "outputId": "79a94ac9-abbe-4272-f14a-1922b990ddbe"
      },
      "outputs": [
        {
          "name": "stderr",
          "output_type": "stream",
          "text": [
            "Traceback (most recent call last):\n",
            "  File \"c:\\Users\\Yesh\\Desktop\\Internship brand intelle\\LLM\\.venv\\Lib\\site-packages\\pandasai\\pipelines\\chat\\generate_chat_pipeline.py\", line 335, in run\n",
            "    ).run(input)\n",
            "      ^^^^^^^^^^\n",
            "  File \"c:\\Users\\Yesh\\Desktop\\Internship brand intelle\\LLM\\.venv\\Lib\\site-packages\\pandasai\\pipelines\\pipeline.py\", line 137, in run\n",
            "    raise e\n",
            "  File \"c:\\Users\\Yesh\\Desktop\\Internship brand intelle\\LLM\\.venv\\Lib\\site-packages\\pandasai\\pipelines\\pipeline.py\", line 101, in run\n",
            "    step_output = logic.execute(\n",
            "                  ^^^^^^^^^^^^^^\n",
            "  File \"c:\\Users\\Yesh\\Desktop\\Internship brand intelle\\LLM\\.venv\\Lib\\site-packages\\pandasai\\pipelines\\chat\\code_execution.py\", line 113, in execute\n",
            "    raise e\n",
            "  File \"c:\\Users\\Yesh\\Desktop\\Internship brand intelle\\LLM\\.venv\\Lib\\site-packages\\pandasai\\pipelines\\chat\\code_execution.py\", line 96, in execute\n",
            "    if not OutputValidator.validate_result(result):\n",
            "           ^^^^^^^^^^^^^^^^^^^^^^^^^^^^^^^^^^^^^^^\n",
            "  File \"c:\\Users\\Yesh\\Desktop\\Internship brand intelle\\LLM\\.venv\\Lib\\site-packages\\pandasai\\helpers\\output_validator.py\", line 73, in validate_result\n",
            "    raise InvalidOutputValueMismatch(\n",
            "pandasai.exceptions.InvalidOutputValueMismatch: Result must be in the format of dictionary of type and value\n"
          ]
        },
        {
          "data": {
            "text/plain": [
              "'Unfortunately, I was not able to answer your question, because of the following error:\\n\\nResult must be in the format of dictionary of type and value\\n'"
            ]
          },
          "execution_count": 89,
          "metadata": {},
          "output_type": "execute_result"
        }
      ],
      "source": [
        "# Train the model - if the market is not mentioned\n",
        "query = \"Top 5 news network with the highest spending for TV medium\"\n",
        "response = \"\"\"\n",
        "import pandas as pd\n",
        "\n",
        "tv_df = dfs[0]\n",
        "## Select the data which have parent network as NEWS\n",
        "\n",
        "news_df = tv_df[tv_df['Parent_Network'].str.contains('NEWS', case=False, na=False)]\n",
        "news_df = news_df.groupby('Parent_Network')['GrossAmount'].sum().reset_index()\n",
        "news_df = news_df.sort_values('GrossAmount', ascending=False)\n",
        "top_5_news_networks = news_df.head(5)\n",
        "top_5_news_networks = top_5_news_networks['Parent_Network'].tolist()\n",
        "top_5_news_networks = ', '.join(top_5_news_networks)\n",
        "result = { \"type\": \"string\", \"value\": f\"The top 5 news networks are {top_5_news_networks}.\" }\n",
        "\n",
        "\"\"\"\n",
        "agent.train(queries=[query], codes=[response])\n",
        "\n",
        "agent.chat(\"Top 5 news network with the highest spending for TV medium\")"
      ]
    },
    {
      "cell_type": "code",
      "execution_count": null,
      "metadata": {
        "id": "uWhNXq9GLm1l",
        "outputId": "7a7a734a-c772-4145-e150-14d7d846f50d"
      },
      "outputs": [
        {
          "data": {
            "text/plain": [
              "'The provided data does not contain information about news networks or their spending. Therefore, I cannot extract the top 5 news networks with the highest spending for the TV medium.'"
            ]
          },
          "execution_count": 74,
          "metadata": {},
          "output_type": "execute_result"
        }
      ],
      "source": [
        "agent.chat(\"Top 5 news network with the highest spending for TV medium\")"
      ]
    },
    {
      "cell_type": "code",
      "execution_count": null,
      "metadata": {
        "id": "ejD2ACRALm1m",
        "outputId": "22faff3f-9516-4647-889e-14234a703d54"
      },
      "outputs": [
        {
          "name": "stderr",
          "output_type": "stream",
          "text": [
            "Traceback (most recent call last):\n",
            "  File \"c:\\Users\\Yesh\\Desktop\\Internship brand intelle\\LLM\\.venv\\Lib\\site-packages\\pandasai\\pipelines\\chat\\generate_chat_pipeline.py\", line 335, in run\n",
            "    ).run(input)\n",
            "      ^^^^^^^^^^\n",
            "  File \"c:\\Users\\Yesh\\Desktop\\Internship brand intelle\\LLM\\.venv\\Lib\\site-packages\\pandasai\\pipelines\\pipeline.py\", line 137, in run\n",
            "    raise e\n",
            "  File \"c:\\Users\\Yesh\\Desktop\\Internship brand intelle\\LLM\\.venv\\Lib\\site-packages\\pandasai\\pipelines\\pipeline.py\", line 101, in run\n",
            "    step_output = logic.execute(\n",
            "                  ^^^^^^^^^^^^^^\n",
            "  File \"c:\\Users\\Yesh\\Desktop\\Internship brand intelle\\LLM\\.venv\\Lib\\site-packages\\pandasai\\pipelines\\chat\\code_execution.py\", line 113, in execute\n",
            "    raise e\n",
            "  File \"c:\\Users\\Yesh\\Desktop\\Internship brand intelle\\LLM\\.venv\\Lib\\site-packages\\pandasai\\pipelines\\chat\\code_execution.py\", line 96, in execute\n",
            "    if not OutputValidator.validate_result(result):\n",
            "           ^^^^^^^^^^^^^^^^^^^^^^^^^^^^^^^^^^^^^^^\n",
            "  File \"c:\\Users\\Yesh\\Desktop\\Internship brand intelle\\LLM\\.venv\\Lib\\site-packages\\pandasai\\helpers\\output_validator.py\", line 73, in validate_result\n",
            "    raise InvalidOutputValueMismatch(\n",
            "pandasai.exceptions.InvalidOutputValueMismatch: Result must be in the format of dictionary of type and value\n"
          ]
        },
        {
          "data": {
            "text/plain": [
              "'Unfortunately, I was not able to answer your question, because of the following error:\\n\\nResult must be in the format of dictionary of type and value\\n'"
            ]
          },
          "execution_count": 83,
          "metadata": {},
          "output_type": "execute_result"
        }
      ],
      "source": [
        "agent.chat(\"top 5 cities according to spending for radio medium\")"
      ]
    },
    {
      "cell_type": "code",
      "execution_count": null,
      "metadata": {
        "id": "3cMF0dE8Lm1m"
      },
      "outputs": [],
      "source": []
    }
  ],
  "metadata": {
    "kernelspec": {
      "display_name": "MVP-PANDASAI-CHATBOT",
      "language": "python",
      "name": "python3"
    },
    "language_info": {
      "codemirror_mode": {
        "name": "ipython",
        "version": 3
      },
      "file_extension": ".py",
      "mimetype": "text/x-python",
      "name": "python",
      "nbconvert_exporter": "python",
      "pygments_lexer": "ipython3",
      "version": "3.11.5"
    },
    "colab": {
      "provenance": []
    }
  },
  "nbformat": 4,
  "nbformat_minor": 0
}